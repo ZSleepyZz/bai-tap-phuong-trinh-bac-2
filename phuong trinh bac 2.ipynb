{
 "cells": [
  {
   "cell_type": "code",
   "execution_count": 1,
   "id": "9867c34f",
   "metadata": {},
   "outputs": [],
   "source": [
    "import math "
   ]
  },
  {
   "cell_type": "code",
   "execution_count": 6,
   "id": "1ae87cf8",
   "metadata": {},
   "outputs": [
    {
     "name": "stdout",
     "output_type": "stream",
     "text": [
      "a= 1\n",
      "b= 2\n",
      "c= 1\n",
      "phương trình có nghiệm kép\n",
      "nghiệm là  -1.0\n"
     ]
    }
   ],
   "source": [
    "a=int(input(\"a= \"))\n",
    "b=int(input(\"b= \"))\n",
    "c=int(input(\"c= \"))\n",
    "delta=b**2-4*a*c\n",
    "if delta>0:\n",
    "    print(\"phương trình có 2 nghiệm\")\n",
    "    x1=(-b+math.sqrt(delta))/(2*a)\n",
    "    x2=(-b-math.sqrt(delta))/(2*a)\n",
    "    print(\"nghiệm thứ nhất là \",x1)\n",
    "    print(\"nghiệm thứ hai là \",x2)\n",
    "elif delta==0:\n",
    "    print(\"phương trình có nghiệm kép\")\n",
    "    x=-b/(2*a)\n",
    "    print(\"nghiệm là \",x)\n",
    "else: \n",
    "    print(\"phương trình vô nghiệm\")"
   ]
  },
  {
   "cell_type": "code",
   "execution_count": null,
   "id": "419d5bcc",
   "metadata": {},
   "outputs": [],
   "source": []
  }
 ],
 "metadata": {
  "kernelspec": {
   "display_name": "Python 3 (ipykernel)",
   "language": "python",
   "name": "python3"
  },
  "language_info": {
   "codemirror_mode": {
    "name": "ipython",
    "version": 3
   },
   "file_extension": ".py",
   "mimetype": "text/x-python",
   "name": "python",
   "nbconvert_exporter": "python",
   "pygments_lexer": "ipython3",
   "version": "3.9.13"
  }
 },
 "nbformat": 4,
 "nbformat_minor": 5
}
